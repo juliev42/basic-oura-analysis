{
 "cells": [
  {
   "cell_type": "code",
   "execution_count": 18,
   "metadata": {},
   "outputs": [],
   "source": [
    "import pandas as pd\n",
    "from scipy.stats import ttest_ind\n",
    "\n",
    "# Data contains 16 days before and after starting medication\n",
    "# Load the data\n",
    "pre_med_df = pd.read_csv(\"data/premed.csv\")\n",
    "post_med_df = pd.read_csv(\"data/postmed.csv\")\n"
   ]
  },
  {
   "cell_type": "code",
   "execution_count": 19,
   "metadata": {},
   "outputs": [],
   "source": [
    "# Ensure both datasets have the same columns\n",
    "common_columns = list(set(pre_med_df.columns) & set(post_med_df.columns))\n",
    "pre_med_df = pre_med_df[common_columns]\n",
    "post_med_df = post_med_df[common_columns]"
   ]
  },
  {
   "cell_type": "code",
   "execution_count": 20,
   "metadata": {},
   "outputs": [
    {
     "data": {
      "text/plain": [
       "['Average HRV',\n",
       " 'Steps',\n",
       " 'REM Sleep Duration',\n",
       " 'Temperature Deviation (°C)',\n",
       " 'Lowest Resting Heart Rate',\n",
       " 'Equivalent Walking Distance',\n",
       " 'Average Resting Heart Rate',\n",
       " 'Sleep Latency',\n",
       " 'Rest Time',\n",
       " 'date',\n",
       " 'Readiness Score',\n",
       " 'Sleep Score',\n",
       " 'Total Sleep Duration',\n",
       " 'Average MET',\n",
       " 'High Activity Time',\n",
       " 'Deep Sleep Duration']"
      ]
     },
     "execution_count": 20,
     "metadata": {},
     "output_type": "execute_result"
    }
   ],
   "source": [
    "common_columns"
   ]
  },
  {
   "cell_type": "code",
   "execution_count": 21,
   "metadata": {},
   "outputs": [],
   "source": [
    "# Remove non-numeric columns (like date)\n",
    "numeric_columns = pre_med_df.select_dtypes(include=['number']).columns"
   ]
  },
  {
   "cell_type": "code",
   "execution_count": 22,
   "metadata": {},
   "outputs": [],
   "source": [
    "# Perform t-tests for each numeric column\n",
    "stat_results = {}\n",
    "for col in numeric_columns:\n",
    "    stat, p_value = ttest_ind(pre_med_df[col], post_med_df[col], equal_var=False, nan_policy='omit')\n",
    "    stat_results[col] = p_value"
   ]
  },
  {
   "cell_type": "code",
   "execution_count": 23,
   "metadata": {},
   "outputs": [
    {
     "name": "stdout",
     "output_type": "stream",
     "text": [
      "                         Metric   P-value  Statistically Significant\n",
      "0                   Average HRV  0.001216                       True\n",
      "1                         Steps  0.020042                       True\n",
      "2            REM Sleep Duration  0.827407                      False\n",
      "3    Temperature Deviation (°C)  0.531599                      False\n",
      "4     Lowest Resting Heart Rate  0.004806                       True\n",
      "5   Equivalent Walking Distance  0.260142                      False\n",
      "6    Average Resting Heart Rate  0.002567                       True\n",
      "7                 Sleep Latency  0.078035                      False\n",
      "8                     Rest Time  0.048369                       True\n",
      "9               Readiness Score  0.016355                       True\n",
      "10                  Sleep Score  0.756648                      False\n",
      "11         Total Sleep Duration  0.303377                      False\n",
      "12                  Average MET  0.351524                      False\n",
      "13           High Activity Time  0.058907                      False\n",
      "14          Deep Sleep Duration  0.679409                      False\n"
     ]
    }
   ],
   "source": [
    "# Identify statistically significant differences (p < 0.05)\n",
    "significant_results = {col: p for col, p in stat_results.items() if p < 0.05}\n",
    "\n",
    "# Convert to DataFrame and display\n",
    "df_results = pd.DataFrame(list(stat_results.items()), columns=[\"Metric\", \"P-value\"])\n",
    "df_results[\"Statistically Significant\"] = df_results[\"P-value\"] < 0.05\n",
    "\n",
    "print(df_results)"
   ]
  },
  {
   "cell_type": "code",
   "execution_count": 24,
   "metadata": {},
   "outputs": [],
   "source": [
    "pre_avg = round(pre_med_df[numeric_columns].mean(), 2)\n",
    "post_avg = round(post_med_df[numeric_columns].mean(), 2)\n",
    "\n",
    "# Create a DataFrame with the results\n",
    "avg_comparison_df = pd.DataFrame({\n",
    "    \"Metric\": numeric_columns,\n",
    "    \"Pre-Medication Average\": pre_avg.values,\n",
    "    \"Post-Medication Average\": post_avg.values\n",
    "})\n"
   ]
  },
  {
   "cell_type": "code",
   "execution_count": 17,
   "metadata": {},
   "outputs": [
    {
     "data": {
      "text/html": [
       "<div>\n",
       "<style scoped>\n",
       "    .dataframe tbody tr th:only-of-type {\n",
       "        vertical-align: middle;\n",
       "    }\n",
       "\n",
       "    .dataframe tbody tr th {\n",
       "        vertical-align: top;\n",
       "    }\n",
       "\n",
       "    .dataframe thead th {\n",
       "        text-align: right;\n",
       "    }\n",
       "</style>\n",
       "<table border=\"1\" class=\"dataframe\">\n",
       "  <thead>\n",
       "    <tr style=\"text-align: right;\">\n",
       "      <th></th>\n",
       "      <th>Metric</th>\n",
       "      <th>Pre-Medication Average</th>\n",
       "      <th>Post-Medication Average</th>\n",
       "    </tr>\n",
       "  </thead>\n",
       "  <tbody>\n",
       "    <tr>\n",
       "      <th>0</th>\n",
       "      <td>Average HRV</td>\n",
       "      <td>76.44</td>\n",
       "      <td>62.38</td>\n",
       "    </tr>\n",
       "    <tr>\n",
       "      <th>1</th>\n",
       "      <td>Steps</td>\n",
       "      <td>17712.76</td>\n",
       "      <td>13243.81</td>\n",
       "    </tr>\n",
       "    <tr>\n",
       "      <th>2</th>\n",
       "      <td>REM Sleep Duration</td>\n",
       "      <td>4400.62</td>\n",
       "      <td>4248.46</td>\n",
       "    </tr>\n",
       "    <tr>\n",
       "      <th>3</th>\n",
       "      <td>Temperature Deviation (°C)</td>\n",
       "      <td>-0.17</td>\n",
       "      <td>-0.12</td>\n",
       "    </tr>\n",
       "    <tr>\n",
       "      <th>4</th>\n",
       "      <td>Lowest Resting Heart Rate</td>\n",
       "      <td>52.81</td>\n",
       "      <td>56.46</td>\n",
       "    </tr>\n",
       "    <tr>\n",
       "      <th>5</th>\n",
       "      <td>Equivalent Walking Distance</td>\n",
       "      <td>20007.59</td>\n",
       "      <td>17294.88</td>\n",
       "    </tr>\n",
       "    <tr>\n",
       "      <th>6</th>\n",
       "      <td>Average Resting Heart Rate</td>\n",
       "      <td>59.20</td>\n",
       "      <td>63.54</td>\n",
       "    </tr>\n",
       "    <tr>\n",
       "      <th>7</th>\n",
       "      <td>Sleep Latency</td>\n",
       "      <td>894.38</td>\n",
       "      <td>583.85</td>\n",
       "    </tr>\n",
       "    <tr>\n",
       "      <th>8</th>\n",
       "      <td>Rest Time</td>\n",
       "      <td>31694.12</td>\n",
       "      <td>26182.50</td>\n",
       "    </tr>\n",
       "    <tr>\n",
       "      <th>9</th>\n",
       "      <td>Readiness Score</td>\n",
       "      <td>78.19</td>\n",
       "      <td>68.54</td>\n",
       "    </tr>\n",
       "    <tr>\n",
       "      <th>10</th>\n",
       "      <td>Sleep Score</td>\n",
       "      <td>71.12</td>\n",
       "      <td>72.69</td>\n",
       "    </tr>\n",
       "    <tr>\n",
       "      <th>11</th>\n",
       "      <td>Total Sleep Duration</td>\n",
       "      <td>25811.25</td>\n",
       "      <td>23545.38</td>\n",
       "    </tr>\n",
       "    <tr>\n",
       "      <th>12</th>\n",
       "      <td>Average MET</td>\n",
       "      <td>1.88</td>\n",
       "      <td>1.80</td>\n",
       "    </tr>\n",
       "    <tr>\n",
       "      <th>13</th>\n",
       "      <td>High Activity Time</td>\n",
       "      <td>2287.06</td>\n",
       "      <td>1181.25</td>\n",
       "    </tr>\n",
       "    <tr>\n",
       "      <th>14</th>\n",
       "      <td>Deep Sleep Duration</td>\n",
       "      <td>5510.62</td>\n",
       "      <td>5291.54</td>\n",
       "    </tr>\n",
       "  </tbody>\n",
       "</table>\n",
       "</div>"
      ],
      "text/plain": [
       "                         Metric  Pre-Medication Average  \\\n",
       "0                   Average HRV                   76.44   \n",
       "1                         Steps                17712.76   \n",
       "2            REM Sleep Duration                 4400.62   \n",
       "3    Temperature Deviation (°C)                   -0.17   \n",
       "4     Lowest Resting Heart Rate                   52.81   \n",
       "5   Equivalent Walking Distance                20007.59   \n",
       "6    Average Resting Heart Rate                   59.20   \n",
       "7                 Sleep Latency                  894.38   \n",
       "8                     Rest Time                31694.12   \n",
       "9               Readiness Score                   78.19   \n",
       "10                  Sleep Score                   71.12   \n",
       "11         Total Sleep Duration                25811.25   \n",
       "12                  Average MET                    1.88   \n",
       "13           High Activity Time                 2287.06   \n",
       "14          Deep Sleep Duration                 5510.62   \n",
       "\n",
       "    Post-Medication Average  \n",
       "0                     62.38  \n",
       "1                  13243.81  \n",
       "2                   4248.46  \n",
       "3                     -0.12  \n",
       "4                     56.46  \n",
       "5                  17294.88  \n",
       "6                     63.54  \n",
       "7                    583.85  \n",
       "8                  26182.50  \n",
       "9                     68.54  \n",
       "10                    72.69  \n",
       "11                 23545.38  \n",
       "12                     1.80  \n",
       "13                  1181.25  \n",
       "14                  5291.54  "
      ]
     },
     "execution_count": 17,
     "metadata": {},
     "output_type": "execute_result"
    }
   ],
   "source": [
    "avg_comparison_df"
   ]
  },
  {
   "cell_type": "code",
   "execution_count": null,
   "metadata": {},
   "outputs": [],
   "source": []
  }
 ],
 "metadata": {
  "kernelspec": {
   "display_name": "metrics",
   "language": "python",
   "name": "python3"
  },
  "language_info": {
   "codemirror_mode": {
    "name": "ipython",
    "version": 3
   },
   "file_extension": ".py",
   "mimetype": "text/x-python",
   "name": "python",
   "nbconvert_exporter": "python",
   "pygments_lexer": "ipython3",
   "version": "3.11.0"
  }
 },
 "nbformat": 4,
 "nbformat_minor": 2
}
